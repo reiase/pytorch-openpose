{
 "cells": [
  {
   "cell_type": "code",
   "execution_count": null,
   "metadata": {},
   "outputs": [],
   "source": [
    "import cv2\n",
    "\n",
    "from src import util\n",
    "from src.body import Body\n",
    "\n",
    "from towhee.functional import DataCollection"
   ]
  },
  {
   "cell_type": "code",
   "execution_count": null,
   "metadata": {},
   "outputs": [],
   "source": [
    "body_estimation = Body('model/body_pose_model.pth')\n",
    "scale = 0.1"
   ]
  },
  {
   "cell_type": "code",
   "execution_count": null,
   "metadata": {},
   "outputs": [],
   "source": [
    "def resize(im):\n",
    "    w = int(im.shape[1] * scale)\n",
    "    h = int(im.shape[0] * scale)\n",
    "    return cv2.resize(im, (w, h))\n",
    "\n",
    "\n",
    "def openpose(im):\n",
    "    candidate, subset = body_estimation(im)\n",
    "    return candidate, subset\n",
    "\n",
    "\n",
    "def draw(canvas, result):\n",
    "    candidate, subset = result\n",
    "    canvas = util.draw_bodypose(canvas, candidate, subset, 1 / scale)\n",
    "    return canvas"
   ]
  },
  {
   "cell_type": "markdown",
   "metadata": {},
   "source": [
    "# openpose with towhee"
   ]
  },
  {
   "cell_type": "code",
   "execution_count": null,
   "metadata": {},
   "outputs": [],
   "source": [
    "small, oriImg = DataCollection \\\n",
    "    .from_camera(1) \\\n",
    "    .map(resize, lambda x: x)"
   ]
  },
  {
   "cell_type": "code",
   "execution_count": null,
   "metadata": {},
   "outputs": [],
   "source": [
    "oriImg.zip(small.map(openpose)) \\\n",
    "    .map(lambda x: draw(*x)) \\\n",
    "    .imshow()"
   ]
  },
  {
   "cell_type": "markdown",
   "metadata": {},
   "source": [
    "# Openpose with towhee+ray"
   ]
  },
  {
   "cell_type": "code",
   "execution_count": null,
   "metadata": {},
   "outputs": [],
   "source": [
    "small, oriImg = DataCollection \\\n",
    "    .from_camera(1) \\\n",
    "    .set_engine('ray') \\\n",
    "    .map(resize, lambda x: x)"
   ]
  },
  {
   "cell_type": "code",
   "execution_count": null,
   "metadata": {},
   "outputs": [],
   "source": [
    "oriImg.zip(small.map(openpose)) \\\n",
    "    .map(lambda x: draw(*x)) \\\n",
    "    .collect() \\\n",
    "    .imshow()"
   ]
  }
 ],
 "metadata": {
  "interpreter": {
   "hash": "ced2a0ceac8ba0d6212a70bb3e01d7f559b570dd9d05ec4c41dfe011a40dbef0"
  },
  "kernelspec": {
   "display_name": "Python 3.9.9 64-bit ('3.9.9')",
   "language": "python",
   "name": "python3"
  },
  "language_info": {
   "codemirror_mode": {
    "name": "ipython",
    "version": 3
   },
   "file_extension": ".py",
   "mimetype": "text/x-python",
   "name": "python",
   "nbconvert_exporter": "python",
   "pygments_lexer": "ipython3",
   "version": "3.9.9"
  },
  "orig_nbformat": 4
 },
 "nbformat": 4,
 "nbformat_minor": 2
}
